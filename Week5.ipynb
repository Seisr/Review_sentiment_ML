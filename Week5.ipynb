{
  "nbformat": 4,
  "nbformat_minor": 0,
  "metadata": {
    "colab": {
      "name": "Week5.ipynb",
      "provenance": [],
      "collapsed_sections": []
    },
    "kernelspec": {
      "name": "python3",
      "display_name": "Python 3"
    }
  },
  "cells": [
    {
      "cell_type": "markdown",
      "metadata": {
        "id": "bc_CWrMth-Up",
        "colab_type": "text"
      },
      "source": [
        "Create Environment"
      ]
    },
    {
      "cell_type": "code",
      "metadata": {
        "id": "X7POkrcceiQN",
        "colab_type": "code",
        "outputId": "75d1df10-f14f-4adb-f091-c1bd48f8253b",
        "colab": {
          "base_uri": "https://localhost:8080/",
          "height": 121
        }
      },
      "source": [
        "from google.colab import drive\n",
        "drive.mount('/content/drive')"
      ],
      "execution_count": 1,
      "outputs": [
        {
          "output_type": "stream",
          "text": [
            "Go to this URL in a browser: https://accounts.google.com/o/oauth2/auth?client_id=947318989803-6bn6qk8qdgf4n4g3pfee6491hc0brc4i.apps.googleusercontent.com&redirect_uri=urn%3aietf%3awg%3aoauth%3a2.0%3aoob&response_type=code&scope=email%20https%3a%2f%2fwww.googleapis.com%2fauth%2fdocs.test%20https%3a%2f%2fwww.googleapis.com%2fauth%2fdrive%20https%3a%2f%2fwww.googleapis.com%2fauth%2fdrive.photos.readonly%20https%3a%2f%2fwww.googleapis.com%2fauth%2fpeopleapi.readonly\n",
            "\n",
            "Enter your authorization code:\n",
            "··········\n",
            "Mounted at /content/drive\n"
          ],
          "name": "stdout"
        }
      ]
    },
    {
      "cell_type": "markdown",
      "metadata": {
        "id": "BjiTmXQBiCit",
        "colab_type": "text"
      },
      "source": [
        "Read the data"
      ]
    },
    {
      "cell_type": "code",
      "metadata": {
        "id": "TAyuZyiQetL_",
        "colab_type": "code",
        "outputId": "b34f56d6-aa16-4db2-a056-5242ca59e440",
        "colab": {
          "base_uri": "https://localhost:8080/",
          "height": 639
        }
      },
      "source": [
        "import numpy as np\n",
        "import pandas as pd\n",
        "movie = pd.read_csv('drive/My Drive/FTMLE - Tonga/Data/movie_review.csv',encoding='utf-8', sep='\\t')\n",
        "movie.head(20)"
      ],
      "execution_count": 2,
      "outputs": [
        {
          "output_type": "execute_result",
          "data": {
            "text/html": [
              "<div>\n",
              "<style scoped>\n",
              "    .dataframe tbody tr th:only-of-type {\n",
              "        vertical-align: middle;\n",
              "    }\n",
              "\n",
              "    .dataframe tbody tr th {\n",
              "        vertical-align: top;\n",
              "    }\n",
              "\n",
              "    .dataframe thead th {\n",
              "        text-align: right;\n",
              "    }\n",
              "</style>\n",
              "<table border=\"1\" class=\"dataframe\">\n",
              "  <thead>\n",
              "    <tr style=\"text-align: right;\">\n",
              "      <th></th>\n",
              "      <th>id</th>\n",
              "      <th>review</th>\n",
              "      <th>sentiment</th>\n",
              "    </tr>\n",
              "  </thead>\n",
              "  <tbody>\n",
              "    <tr>\n",
              "      <th>0</th>\n",
              "      <td>5814_8</td>\n",
              "      <td>With all this stuff going down at the moment w...</td>\n",
              "      <td>1</td>\n",
              "    </tr>\n",
              "    <tr>\n",
              "      <th>1</th>\n",
              "      <td>2381_9</td>\n",
              "      <td>\\The Classic War of the Worlds\\\" by Timothy Hi...</td>\n",
              "      <td>1</td>\n",
              "    </tr>\n",
              "    <tr>\n",
              "      <th>2</th>\n",
              "      <td>7759_3</td>\n",
              "      <td>The film starts with a manager (Nicholas Bell)...</td>\n",
              "      <td>0</td>\n",
              "    </tr>\n",
              "    <tr>\n",
              "      <th>3</th>\n",
              "      <td>3630_4</td>\n",
              "      <td>It must be assumed that those who praised this...</td>\n",
              "      <td>0</td>\n",
              "    </tr>\n",
              "    <tr>\n",
              "      <th>4</th>\n",
              "      <td>9495_8</td>\n",
              "      <td>Superbly trashy and wondrously unpretentious 8...</td>\n",
              "      <td>1</td>\n",
              "    </tr>\n",
              "    <tr>\n",
              "      <th>5</th>\n",
              "      <td>8196_8</td>\n",
              "      <td>I dont know why people think this is such a ba...</td>\n",
              "      <td>1</td>\n",
              "    </tr>\n",
              "    <tr>\n",
              "      <th>6</th>\n",
              "      <td>7166_2</td>\n",
              "      <td>This movie could have been very good, but come...</td>\n",
              "      <td>0</td>\n",
              "    </tr>\n",
              "    <tr>\n",
              "      <th>7</th>\n",
              "      <td>319_1</td>\n",
              "      <td>A friend of mine bought this film for Â£1, and...</td>\n",
              "      <td>0</td>\n",
              "    </tr>\n",
              "    <tr>\n",
              "      <th>8</th>\n",
              "      <td>8713_10</td>\n",
              "      <td>&lt;br /&gt;&lt;br /&gt;This movie is full of references. ...</td>\n",
              "      <td>1</td>\n",
              "    </tr>\n",
              "    <tr>\n",
              "      <th>9</th>\n",
              "      <td>2486_3</td>\n",
              "      <td>What happens when an army of wetbacks, towelhe...</td>\n",
              "      <td>0</td>\n",
              "    </tr>\n",
              "    <tr>\n",
              "      <th>10</th>\n",
              "      <td>6811_10</td>\n",
              "      <td>Although I generally do not like remakes belie...</td>\n",
              "      <td>1</td>\n",
              "    </tr>\n",
              "    <tr>\n",
              "      <th>11</th>\n",
              "      <td>11744_9</td>\n",
              "      <td>\\Mr. Harvey Lights a Candle\\\" is anchored by a...</td>\n",
              "      <td>1</td>\n",
              "    </tr>\n",
              "    <tr>\n",
              "      <th>12</th>\n",
              "      <td>7369_1</td>\n",
              "      <td>I had a feeling that after \\Submerged\\\", this ...</td>\n",
              "      <td>0</td>\n",
              "    </tr>\n",
              "    <tr>\n",
              "      <th>13</th>\n",
              "      <td>12081_1</td>\n",
              "      <td>note to George Litman, and others: the Mystery...</td>\n",
              "      <td>0</td>\n",
              "    </tr>\n",
              "    <tr>\n",
              "      <th>14</th>\n",
              "      <td>3561_4</td>\n",
              "      <td>Stephen King adaptation (scripted by King hims...</td>\n",
              "      <td>0</td>\n",
              "    </tr>\n",
              "    <tr>\n",
              "      <th>15</th>\n",
              "      <td>3951_2</td>\n",
              "      <td>Ulli Lommel's 1980 film 'The Boogey Man' is no...</td>\n",
              "      <td>0</td>\n",
              "    </tr>\n",
              "    <tr>\n",
              "      <th>16</th>\n",
              "      <td>9352_10</td>\n",
              "      <td>Most people, especially young people, may not ...</td>\n",
              "      <td>1</td>\n",
              "    </tr>\n",
              "    <tr>\n",
              "      <th>17</th>\n",
              "      <td>3374_7</td>\n",
              "      <td>\\Soylent Green\\\" is one of the best and most d...</td>\n",
              "      <td>1</td>\n",
              "    </tr>\n",
              "    <tr>\n",
              "      <th>18</th>\n",
              "      <td>10782_7</td>\n",
              "      <td>Michael Stearns plays Mike, a sexually frustra...</td>\n",
              "      <td>1</td>\n",
              "    </tr>\n",
              "    <tr>\n",
              "      <th>19</th>\n",
              "      <td>5414_10</td>\n",
              "      <td>This happy-go-luck 1939 military swashbuckler,...</td>\n",
              "      <td>1</td>\n",
              "    </tr>\n",
              "  </tbody>\n",
              "</table>\n",
              "</div>"
            ],
            "text/plain": [
              "         id                                             review  sentiment\n",
              "0    5814_8  With all this stuff going down at the moment w...          1\n",
              "1    2381_9  \\The Classic War of the Worlds\\\" by Timothy Hi...          1\n",
              "2    7759_3  The film starts with a manager (Nicholas Bell)...          0\n",
              "3    3630_4  It must be assumed that those who praised this...          0\n",
              "4    9495_8  Superbly trashy and wondrously unpretentious 8...          1\n",
              "5    8196_8  I dont know why people think this is such a ba...          1\n",
              "6    7166_2  This movie could have been very good, but come...          0\n",
              "7     319_1  A friend of mine bought this film for Â£1, and...          0\n",
              "8   8713_10  <br /><br />This movie is full of references. ...          1\n",
              "9    2486_3  What happens when an army of wetbacks, towelhe...          0\n",
              "10  6811_10  Although I generally do not like remakes belie...          1\n",
              "11  11744_9  \\Mr. Harvey Lights a Candle\\\" is anchored by a...          1\n",
              "12   7369_1  I had a feeling that after \\Submerged\\\", this ...          0\n",
              "13  12081_1  note to George Litman, and others: the Mystery...          0\n",
              "14   3561_4  Stephen King adaptation (scripted by King hims...          0\n",
              "15   3951_2  Ulli Lommel's 1980 film 'The Boogey Man' is no...          0\n",
              "16  9352_10  Most people, especially young people, may not ...          1\n",
              "17   3374_7  \\Soylent Green\\\" is one of the best and most d...          1\n",
              "18  10782_7  Michael Stearns plays Mike, a sexually frustra...          1\n",
              "19  5414_10  This happy-go-luck 1939 military swashbuckler,...          1"
            ]
          },
          "metadata": {
            "tags": []
          },
          "execution_count": 2
        }
      ]
    },
    {
      "cell_type": "markdown",
      "metadata": {
        "id": "lqJYVBCziJFF",
        "colab_type": "text"
      },
      "source": [
        "Import \"stopwords\" from nltk library"
      ]
    },
    {
      "cell_type": "code",
      "metadata": {
        "id": "FCH9meT2NrJz",
        "colab_type": "code",
        "outputId": "aaa4edd9-5d58-4a14-e19c-4eb44dad0908",
        "colab": {
          "base_uri": "https://localhost:8080/",
          "height": 67
        }
      },
      "source": [
        "import nltk\n",
        "\n",
        "nltk.download('stopwords')"
      ],
      "execution_count": 3,
      "outputs": [
        {
          "output_type": "stream",
          "text": [
            "[nltk_data] Downloading package stopwords to /root/nltk_data...\n",
            "[nltk_data]   Unzipping corpora/stopwords.zip.\n"
          ],
          "name": "stdout"
        },
        {
          "output_type": "execute_result",
          "data": {
            "text/plain": [
              "True"
            ]
          },
          "metadata": {
            "tags": []
          },
          "execution_count": 3
        }
      ]
    },
    {
      "cell_type": "code",
      "metadata": {
        "id": "ldwaXyJcYJbP",
        "colab_type": "code",
        "colab": {}
      },
      "source": [
        "from nltk.corpus import stopwords\n",
        "stop = stopwords.words('english')"
      ],
      "execution_count": 0,
      "outputs": []
    },
    {
      "cell_type": "markdown",
      "metadata": {
        "id": "L6IG_1RQiYtH",
        "colab_type": "text"
      },
      "source": [
        "Clean & Vectorize Data"
      ]
    },
    {
      "cell_type": "code",
      "metadata": {
        "id": "PK-i-gocgkt9",
        "colab_type": "code",
        "colab": {}
      },
      "source": [
        "import re\n",
        "from nltk.stem import PorterStemmer\n",
        "from sklearn.feature_extraction.text import TfidfVectorizer\n",
        "porter = PorterStemmer()\n",
        "stop = stopwords.words('english')\n",
        "\n",
        "def tokenizer_porter(text):\n",
        "    \n",
        "    return [porter.stem(word) for word in text.split()]\n",
        "\n",
        "def preprocessor(text):\n",
        "    text = re.sub('<[^>]*>', '', text)\n",
        "    emoticons = re.findall('(?::|;|=)(?:-)?(?:\\)|\\(|D|P)', text)\n",
        "    text = (re.sub('[\\W]+', ' ', text.lower()) + ' ' + ' '.join(emoticons).replace('-', ''))\n",
        "    return text\n",
        "\n",
        "tfidf = TfidfVectorizer(stop_words=stop,\n",
        "                        tokenizer=tokenizer_porter,\n",
        "                        preprocessor=preprocessor)"
      ],
      "execution_count": 0,
      "outputs": []
    },
    {
      "cell_type": "code",
      "metadata": {
        "id": "jUwv63G7OG3n",
        "colab_type": "code",
        "colab": {}
      },
      "source": [
        "movie['review'] = movie['review'].apply(preprocessor)"
      ],
      "execution_count": 0,
      "outputs": []
    },
    {
      "cell_type": "markdown",
      "metadata": {
        "id": "oBc5uekkntGc",
        "colab_type": "text"
      },
      "source": [
        "Check data again"
      ]
    },
    {
      "cell_type": "code",
      "metadata": {
        "id": "BjkNAMsZnnIS",
        "colab_type": "code",
        "outputId": "47c35a9e-4763-4373-91a1-dd2bbf10c96e",
        "colab": {
          "base_uri": "https://localhost:8080/",
          "height": 343
        }
      },
      "source": [
        "movie.sample(10)"
      ],
      "execution_count": 8,
      "outputs": [
        {
          "output_type": "execute_result",
          "data": {
            "text/html": [
              "<div>\n",
              "<style scoped>\n",
              "    .dataframe tbody tr th:only-of-type {\n",
              "        vertical-align: middle;\n",
              "    }\n",
              "\n",
              "    .dataframe tbody tr th {\n",
              "        vertical-align: top;\n",
              "    }\n",
              "\n",
              "    .dataframe thead th {\n",
              "        text-align: right;\n",
              "    }\n",
              "</style>\n",
              "<table border=\"1\" class=\"dataframe\">\n",
              "  <thead>\n",
              "    <tr style=\"text-align: right;\">\n",
              "      <th></th>\n",
              "      <th>id</th>\n",
              "      <th>review</th>\n",
              "      <th>sentiment</th>\n",
              "    </tr>\n",
              "  </thead>\n",
              "  <tbody>\n",
              "    <tr>\n",
              "      <th>18766</th>\n",
              "      <td>5568_8</td>\n",
              "      <td>a typical romp through cheech and chong s real...</td>\n",
              "      <td>1</td>\n",
              "    </tr>\n",
              "    <tr>\n",
              "      <th>9076</th>\n",
              "      <td>12131_7</td>\n",
              "      <td>the movie concerns about philip leslie howard ...</td>\n",
              "      <td>1</td>\n",
              "    </tr>\n",
              "    <tr>\n",
              "      <th>13860</th>\n",
              "      <td>11641_7</td>\n",
              "      <td>i just caught an episode about brad the crack ...</td>\n",
              "      <td>1</td>\n",
              "    </tr>\n",
              "    <tr>\n",
              "      <th>4086</th>\n",
              "      <td>2061_1</td>\n",
              "      <td>the only film i ve ever walked out on amazing ...</td>\n",
              "      <td>0</td>\n",
              "    </tr>\n",
              "    <tr>\n",
              "      <th>1019</th>\n",
              "      <td>2741_2</td>\n",
              "      <td>spoiler i love branagh love helena bonham cart...</td>\n",
              "      <td>0</td>\n",
              "    </tr>\n",
              "    <tr>\n",
              "      <th>10228</th>\n",
              "      <td>11261_4</td>\n",
              "      <td>to start with i have to point out the fact tha...</td>\n",
              "      <td>0</td>\n",
              "    </tr>\n",
              "    <tr>\n",
              "      <th>3768</th>\n",
              "      <td>1149_3</td>\n",
              "      <td>the fbi story 1959 was warner bros 149 minute ...</td>\n",
              "      <td>0</td>\n",
              "    </tr>\n",
              "    <tr>\n",
              "      <th>5687</th>\n",
              "      <td>192_2</td>\n",
              "      <td>the only good part about this film is the beau...</td>\n",
              "      <td>0</td>\n",
              "    </tr>\n",
              "    <tr>\n",
              "      <th>3023</th>\n",
              "      <td>12099_4</td>\n",
              "      <td>i ve been a fan of all things bill maher for 1...</td>\n",
              "      <td>0</td>\n",
              "    </tr>\n",
              "    <tr>\n",
              "      <th>1931</th>\n",
              "      <td>10559_8</td>\n",
              "      <td>i haven t written a review on imdb for the lon...</td>\n",
              "      <td>1</td>\n",
              "    </tr>\n",
              "  </tbody>\n",
              "</table>\n",
              "</div>"
            ],
            "text/plain": [
              "            id                                             review  sentiment\n",
              "18766   5568_8  a typical romp through cheech and chong s real...          1\n",
              "9076   12131_7  the movie concerns about philip leslie howard ...          1\n",
              "13860  11641_7  i just caught an episode about brad the crack ...          1\n",
              "4086    2061_1  the only film i ve ever walked out on amazing ...          0\n",
              "1019    2741_2  spoiler i love branagh love helena bonham cart...          0\n",
              "10228  11261_4  to start with i have to point out the fact tha...          0\n",
              "3768    1149_3  the fbi story 1959 was warner bros 149 minute ...          0\n",
              "5687     192_2  the only good part about this film is the beau...          0\n",
              "3023   12099_4  i ve been a fan of all things bill maher for 1...          0\n",
              "1931   10559_8  i haven t written a review on imdb for the lon...          1"
            ]
          },
          "metadata": {
            "tags": []
          },
          "execution_count": 8
        }
      ]
    },
    {
      "cell_type": "markdown",
      "metadata": {
        "id": "IL91ZpNhidD8",
        "colab_type": "text"
      },
      "source": [
        "Train the model"
      ]
    },
    {
      "cell_type": "code",
      "metadata": {
        "id": "Xnyven5lOHUM",
        "colab_type": "code",
        "colab": {}
      },
      "source": [
        "from sklearn.model_selection import train_test_split\n",
        "\n",
        "X = movie['review']\n",
        "y = movie['sentiment']\n",
        "\n",
        "X_train, X_test, y_train, y_test = train_test_split(X, y , test_size = 0.2)"
      ],
      "execution_count": 0,
      "outputs": []
    },
    {
      "cell_type": "code",
      "metadata": {
        "id": "fQkUVjjhOK9G",
        "colab_type": "code",
        "outputId": "b2c4351b-3756-45ee-bb2f-35eb9054d5b0",
        "colab": {
          "base_uri": "https://localhost:8080/",
          "height": 457
        }
      },
      "source": [
        "from sklearn.pipeline import Pipeline\n",
        "from sklearn.linear_model import LogisticRegression\n",
        "\n",
        "clf = Pipeline([('vect', tfidf),\n",
        "                ('clf', LogisticRegression(random_state=0))])\n",
        "\n",
        "clf.fit(X_train, y_train)"
      ],
      "execution_count": 10,
      "outputs": [
        {
          "output_type": "stream",
          "text": [
            "/usr/local/lib/python3.6/dist-packages/sklearn/feature_extraction/text.py:385: UserWarning: Your stop_words may be inconsistent with your preprocessing. Tokenizing the stop words generated tokens ['abov', 'ani', 'becaus', 'befor', 'doe', 'dure', 'ha', 'hi', 'onc', 'onli', 'ourselv', 'themselv', 'thi', 'veri', 'wa', 'whi', 'yourselv'] not in stop_words.\n",
            "  'stop_words.' % sorted(inconsistent))\n"
          ],
          "name": "stderr"
        },
        {
          "output_type": "execute_result",
          "data": {
            "text/plain": [
              "Pipeline(memory=None,\n",
              "         steps=[('vect',\n",
              "                 TfidfVectorizer(analyzer='word', binary=False,\n",
              "                                 decode_error='strict',\n",
              "                                 dtype=<class 'numpy.float64'>,\n",
              "                                 encoding='utf-8', input='content',\n",
              "                                 lowercase=True, max_df=1.0, max_features=None,\n",
              "                                 min_df=1, ngram_range=(1, 1), norm='l2',\n",
              "                                 preprocessor=<function preprocessor at 0x7feb9ce4f840>,\n",
              "                                 smooth_idf=True,\n",
              "                                 stop_words=['i', 'me', 'my', 'myself', '...\n",
              "                                 token_pattern='(?u)\\\\b\\\\w\\\\w+\\\\b',\n",
              "                                 tokenizer=<function tokenizer_porter at 0x7feb9ce4f620>,\n",
              "                                 use_idf=True, vocabulary=None)),\n",
              "                ('clf',\n",
              "                 LogisticRegression(C=1.0, class_weight=None, dual=False,\n",
              "                                    fit_intercept=True, intercept_scaling=1,\n",
              "                                    l1_ratio=None, max_iter=100,\n",
              "                                    multi_class='auto', n_jobs=None,\n",
              "                                    penalty='l2', random_state=0,\n",
              "                                    solver='lbfgs', tol=0.0001, verbose=0,\n",
              "                                    warm_start=False))],\n",
              "         verbose=False)"
            ]
          },
          "metadata": {
            "tags": []
          },
          "execution_count": 10
        }
      ]
    },
    {
      "cell_type": "markdown",
      "metadata": {
        "id": "2-gPJYU6ihwx",
        "colab_type": "text"
      },
      "source": [
        "Test for model accuracy"
      ]
    },
    {
      "cell_type": "code",
      "metadata": {
        "id": "6ODHxvPmOLca",
        "colab_type": "code",
        "outputId": "20521f07-19ec-4643-d340-d7488bd2ef8b",
        "colab": {
          "base_uri": "https://localhost:8080/",
          "height": 34
        }
      },
      "source": [
        "from sklearn.metrics import accuracy_score, confusion_matrix, classification_report\n",
        "\n",
        "predictions = clf.predict(X_test)\n",
        "accuracy_score(y_test, predictions)"
      ],
      "execution_count": 11,
      "outputs": [
        {
          "output_type": "execute_result",
          "data": {
            "text/plain": [
              "0.892"
            ]
          },
          "metadata": {
            "tags": []
          },
          "execution_count": 11
        }
      ]
    },
    {
      "cell_type": "markdown",
      "metadata": {
        "id": "qOh9ID8-ikhR",
        "colab_type": "text"
      },
      "source": [
        "Print out the final report "
      ]
    },
    {
      "cell_type": "code",
      "metadata": {
        "id": "xrOzshvVONJZ",
        "colab_type": "code",
        "outputId": "0093dcc9-deda-4319-8c35-d0e8bbe29461",
        "colab": {
          "base_uri": "https://localhost:8080/",
          "height": 168
        }
      },
      "source": [
        "print(classification_report(y_test, predictions))"
      ],
      "execution_count": 15,
      "outputs": [
        {
          "output_type": "stream",
          "text": [
            "              precision    recall  f1-score   support\n",
            "\n",
            "           0       0.90      0.88      0.89      2230\n",
            "           1       0.88      0.91      0.89      2270\n",
            "\n",
            "    accuracy                           0.89      4500\n",
            "   macro avg       0.89      0.89      0.89      4500\n",
            "weighted avg       0.89      0.89      0.89      4500\n",
            "\n"
          ],
          "name": "stdout"
        }
      ]
    },
    {
      "cell_type": "code",
      "metadata": {
        "id": "3NDIL6kiYxa8",
        "colab_type": "code",
        "colab": {}
      },
      "source": [
        "mveva = pd.read_csv('drive/My Drive/FTMLE - Tonga/Data/movie_review_evaluation.csv',encoding='utf-8', sep='\\t')\n",
        "\n"
      ],
      "execution_count": 0,
      "outputs": []
    },
    {
      "cell_type": "code",
      "metadata": {
        "id": "7AKN463WZiea",
        "colab_type": "code",
        "colab": {}
      },
      "source": [
        "mvtest = mveva['review']"
      ],
      "execution_count": 0,
      "outputs": []
    },
    {
      "cell_type": "code",
      "metadata": {
        "id": "qooKcFwjZjPs",
        "colab_type": "code",
        "colab": {}
      },
      "source": [
        "predictions1 = clf.predict(mvtest)"
      ],
      "execution_count": 0,
      "outputs": []
    },
    {
      "cell_type": "markdown",
      "metadata": {
        "id": "M9gVG1uGay68",
        "colab_type": "text"
      },
      "source": [
        "Save the test Data"
      ]
    },
    {
      "cell_type": "code",
      "metadata": {
        "id": "BHsb_fpPXNzp",
        "colab_type": "code",
        "colab": {}
      },
      "source": [
        "prediclist = predictions1.tolist()\n",
        "mveva['sentiment'] = prediclist\n",
        "mveva.to_csv('kha.csv', index = False)"
      ],
      "execution_count": 0,
      "outputs": []
    }
  ]
}